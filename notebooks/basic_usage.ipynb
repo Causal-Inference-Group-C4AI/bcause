{
 "cells": [
  {
   "cell_type": "code",
   "execution_count": 30,
   "metadata": {
    "collapsed": true,
    "ExecuteTime": {
     "end_time": "2024-01-17T11:18:08.699234Z",
     "start_time": "2024-01-17T11:18:08.697300Z"
    }
   },
   "outputs": [],
   "source": [
    "import networkx as nx\n",
    "from bcause.factors import DeterministicFactor, MultinomialFactor\n",
    "from bcause.models.cmodel import StructuralCausalModel\n",
    "from bcause.inference.causal.elimination import CausalVariableElimination\n",
    "\n"
   ]
  },
  {
   "cell_type": "code",
   "execution_count": 31,
   "outputs": [],
   "source": [
    "# Define a DAG and the domains\n",
    "dag = nx.DiGraph([(\"X\", \"Y\"), (\"U\", \"Y\"), (\"V\", \"X\")])\n",
    "domains = dict(X=[\"x1\", \"x2\"], Y=[\"y1\",\"y2\"], U=[\"u1\", \"u2\", \"u3\", \"u4\"], V=[\"v1\", \"v2\"])\n"
   ],
   "metadata": {
    "collapsed": false,
    "ExecuteTime": {
     "end_time": "2024-01-17T11:18:13.693417Z",
     "start_time": "2024-01-17T11:18:13.686571Z"
    }
   }
  },
  {
   "cell_type": "code",
   "execution_count": 32,
   "outputs": [
    {
     "data": {
      "text/plain": "<DeterministicFactor fX(V), cardinality = (V:2,X:2), values=[x1,x2]>"
     },
     "execution_count": 32,
     "metadata": {},
     "output_type": "execute_result"
    }
   ],
   "source": [
    "domx = {'V': domains['V'], 'X': domains['X']}\n",
    "fx = DeterministicFactor(domx, right_vars=[\"V\"], values=[\"x1\", \"x2\"])\n",
    "fx"
   ],
   "metadata": {
    "collapsed": false,
    "ExecuteTime": {
     "end_time": "2024-01-17T11:18:13.967350Z",
     "start_time": "2024-01-17T11:18:13.962503Z"
    }
   }
  },
  {
   "cell_type": "code",
   "execution_count": 33,
   "outputs": [
    {
     "data": {
      "text/plain": "<DeterministicFactor fY(X,U), cardinality = (X:2,U:4,Y:2), values=[y1,y1,y2,y1,...,y1]>"
     },
     "execution_count": 33,
     "metadata": {},
     "output_type": "execute_result"
    }
   ],
   "source": [
    "# the inner dimension is the rightmost variable (following the variable in the domain dict)\n",
    "values = [['y1', 'y1', 'y2', 'y1'],['y2', 'y2', 'y1', 'y1']]\n",
    "domy = {'X': domains[\"X\"], 'U': domains[\"U\"], 'Y': domains[\"Y\"]}\n",
    "fy = DeterministicFactor(domy, left_vars=[\"Y\"], values=values)\n",
    "fy"
   ],
   "metadata": {
    "collapsed": false,
    "ExecuteTime": {
     "end_time": "2024-01-17T11:18:14.971660Z",
     "start_time": "2024-01-17T11:18:14.968327Z"
    }
   }
  },
  {
   "cell_type": "code",
   "execution_count": 34,
   "outputs": [
    {
     "data": {
      "text/plain": "<MultinomialFactor P(V), cardinality = (V:2), values=[0.5,0.5]>"
     },
     "execution_count": 34,
     "metadata": {},
     "output_type": "execute_result"
    }
   ],
   "source": [
    "domv = {\"V\": domains[\"V\"]}\n",
    "pv = MultinomialFactor(domv, values=[.5, .5])\n",
    "pv"
   ],
   "metadata": {
    "collapsed": false,
    "ExecuteTime": {
     "end_time": "2024-01-17T11:18:16.576110Z",
     "start_time": "2024-01-17T11:18:16.570416Z"
    }
   }
  },
  {
   "cell_type": "code",
   "execution_count": 35,
   "outputs": [
    {
     "data": {
      "text/plain": "<MultinomialFactor P(U), cardinality = (U:4), values=[0.2,0.2,0.6,0.0]>"
     },
     "execution_count": 35,
     "metadata": {},
     "output_type": "execute_result"
    }
   ],
   "source": [
    "domu =  {\"U\": domains[\"U\"]}\n",
    "pu = MultinomialFactor(domu, values=[.2, .2, .6, .0])\n",
    "pu"
   ],
   "metadata": {
    "collapsed": false,
    "ExecuteTime": {
     "end_time": "2024-01-17T11:18:17.304681Z",
     "start_time": "2024-01-17T11:18:17.301363Z"
    }
   }
  },
  {
   "cell_type": "code",
   "execution_count": 36,
   "outputs": [
    {
     "data": {
      "text/plain": "<StructuralCausalModel (X:2,Y:2|U:4,V:2), dag=[X|V][Y|X:U][U][V]>"
     },
     "execution_count": 36,
     "metadata": {},
     "output_type": "execute_result"
    }
   ],
   "source": [
    "model = StructuralCausalModel(dag, [fx, fy, pu, pv])\n",
    "model"
   ],
   "metadata": {
    "collapsed": false,
    "ExecuteTime": {
     "end_time": "2024-01-17T11:18:17.771822Z",
     "start_time": "2024-01-17T11:18:17.768149Z"
    }
   }
  },
  {
   "cell_type": "code",
   "execution_count": 37,
   "outputs": [
    {
     "data": {
      "text/plain": "{'X': <MultinomialFactor P(X|V), cardinality = (V:2,X:2), values=[1.0,0.0,0.0,1.0]>,\n 'Y': <MultinomialFactor P(Y|X,U), cardinality = (X:2,U:4,Y:2), values=[1.0,0.0,1.0,0.0,...,0.0]>,\n 'U': <MultinomialFactor P(U), cardinality = (U:4), values=[0.2,0.2,0.6,0.0]>,\n 'V': <MultinomialFactor P(V), cardinality = (V:2), values=[0.5,0.5]>}"
     },
     "execution_count": 37,
     "metadata": {},
     "output_type": "execute_result"
    }
   ],
   "source": [
    "model.factors"
   ],
   "metadata": {
    "collapsed": false,
    "ExecuteTime": {
     "end_time": "2024-01-17T11:18:18.783879Z",
     "start_time": "2024-01-17T11:18:18.780Z"
    }
   }
  },
  {
   "cell_type": "code",
   "execution_count": 38,
   "outputs": [
    {
     "data": {
      "text/plain": "<BayesianNetwork (X:2,Y:2,U:4,V:2), dag=[X|V][Y|X:U][U][V]>"
     },
     "execution_count": 38,
     "metadata": {},
     "output_type": "execute_result"
    }
   ],
   "source": [
    "model.to_bnet()"
   ],
   "metadata": {
    "collapsed": false,
    "ExecuteTime": {
     "end_time": "2024-01-17T11:18:19.300252Z",
     "start_time": "2024-01-17T11:18:19.297344Z"
    }
   }
  },
  {
   "cell_type": "code",
   "execution_count": 39,
   "outputs": [
    {
     "data": {
      "text/plain": "<MultinomialFactor P(Y), cardinality = (Y:2), values=[0.4,0.6]>"
     },
     "execution_count": 39,
     "metadata": {},
     "output_type": "execute_result"
    }
   ],
   "source": [
    "# Run causal inference with Variable Elimination\n",
    "cve = CausalVariableElimination(model)\n",
    "cve.causal_query(\"Y\", do=dict(X=\"x1\"))"
   ],
   "metadata": {
    "collapsed": false,
    "ExecuteTime": {
     "end_time": "2024-01-17T11:18:20.132667Z",
     "start_time": "2024-01-17T11:18:20.128131Z"
    }
   }
  },
  {
   "cell_type": "code",
   "execution_count": 40,
   "outputs": [
    {
     "ename": "KeyError",
     "evalue": "'V'",
     "output_type": "error",
     "traceback": [
      "\u001B[0;31m---------------------------------------------------------------------------\u001B[0m",
      "\u001B[0;31mKeyError\u001B[0m                                  Traceback (most recent call last)",
      "Input \u001B[0;32mIn [40]\u001B[0m, in \u001B[0;36m<module>\u001B[0;34m\u001B[0m\n\u001B[1;32m      1\u001B[0m \u001B[38;5;66;03m# Run a counterfactual query\u001B[39;00m\n\u001B[0;32m----> 2\u001B[0m \u001B[43mcve\u001B[49m\u001B[38;5;241;43m.\u001B[39;49m\u001B[43mcounterfactual_query\u001B[49m\u001B[43m(\u001B[49m\u001B[38;5;124;43m\"\u001B[39;49m\u001B[38;5;124;43mY\u001B[39;49m\u001B[38;5;124;43m\"\u001B[39;49m\u001B[43m,\u001B[49m\u001B[43mdo\u001B[49m\u001B[38;5;241;43m=\u001B[39;49m\u001B[38;5;28;43mdict\u001B[39;49m\u001B[43m(\u001B[49m\u001B[43mX\u001B[49m\u001B[38;5;241;43m=\u001B[39;49m\u001B[38;5;124;43m\"\u001B[39;49m\u001B[38;5;124;43mx1\u001B[39;49m\u001B[38;5;124;43m\"\u001B[39;49m\u001B[43m)\u001B[49m\u001B[43m,\u001B[49m\u001B[43m \u001B[49m\u001B[43mevidence\u001B[49m\u001B[38;5;241;43m=\u001B[39;49m\u001B[38;5;28;43mdict\u001B[39;49m\u001B[43m(\u001B[49m\u001B[43mX\u001B[49m\u001B[38;5;241;43m=\u001B[39;49m\u001B[38;5;124;43m\"\u001B[39;49m\u001B[38;5;124;43mx1\u001B[39;49m\u001B[38;5;124;43m\"\u001B[39;49m\u001B[43m)\u001B[49m\u001B[43m)\u001B[49m\n",
      "File \u001B[0;32m~/GoogleDrive/UAL/causality/dev/bcause/bcause/inference/causal/causal.py:91\u001B[0m, in \u001B[0;36mCausalInference.counterfactual_query\u001B[0;34m(self, target, do, evidence, targets_subgraphs)\u001B[0m\n\u001B[1;32m     90\u001B[0m \u001B[38;5;28;01mdef\u001B[39;00m \u001B[38;5;21mcounterfactual_query\u001B[39m(\u001B[38;5;28mself\u001B[39m, target, do, evidence\u001B[38;5;241m=\u001B[39m\u001B[38;5;28;01mNone\u001B[39;00m, targets_subgraphs \u001B[38;5;241m=\u001B[39m \u001B[38;5;28;01mNone\u001B[39;00m):\n\u001B[0;32m---> 91\u001B[0m     \u001B[38;5;28;01mreturn\u001B[39;00m \u001B[38;5;28;43mself\u001B[39;49m\u001B[38;5;241;43m.\u001B[39;49m\u001B[43mquery\u001B[49m\u001B[43m(\u001B[49m\u001B[43mtarget\u001B[49m\u001B[43m,\u001B[49m\u001B[43m \u001B[49m\u001B[43mdo\u001B[49m\u001B[43m,\u001B[49m\u001B[43m \u001B[49m\u001B[43mevidence\u001B[49m\u001B[38;5;241;43m=\u001B[39;49m\u001B[43mevidence\u001B[49m\u001B[43m,\u001B[49m\u001B[43m \u001B[49m\u001B[43mcounterfactual\u001B[49m\u001B[38;5;241;43m=\u001B[39;49m\u001B[38;5;28;43;01mTrue\u001B[39;49;00m\u001B[43m,\u001B[49m\u001B[43m \u001B[49m\u001B[43mtargets_subgraphs\u001B[49m\u001B[38;5;241;43m=\u001B[39;49m\u001B[43mtargets_subgraphs\u001B[49m\u001B[43m)\u001B[49m\n",
      "File \u001B[0;32m~/GoogleDrive/UAL/causality/dev/bcause/bcause/inference/causal/causal.py:85\u001B[0m, in \u001B[0;36mCausalInference.query\u001B[0;34m(self, target, do, evidence, counterfactual, targets_subgraphs)\u001B[0m\n\u001B[1;32m     83\u001B[0m     targets_subgraphs \u001B[38;5;241m=\u001B[39m targets_subgraphs \u001B[38;5;129;01mor\u001B[39;00m [\u001B[38;5;241m1\u001B[39m]\u001B[38;5;241m*\u001B[39m\u001B[38;5;28mlen\u001B[39m(target)\n\u001B[1;32m     84\u001B[0m     target \u001B[38;5;241m=\u001B[39m [\u001B[38;5;124mf\u001B[39m\u001B[38;5;124m\"\u001B[39m\u001B[38;5;132;01m{\u001B[39;00mt[\u001B[38;5;241m0\u001B[39m]\u001B[38;5;132;01m}\u001B[39;00m\u001B[38;5;124m_\u001B[39m\u001B[38;5;132;01m{\u001B[39;00mt[\u001B[38;5;241m1\u001B[39m]\u001B[38;5;132;01m}\u001B[39;00m\u001B[38;5;124m\"\u001B[39m \u001B[38;5;28;01mfor\u001B[39;00m t \u001B[38;5;129;01min\u001B[39;00m \u001B[38;5;28mzip\u001B[39m(target, targets_subgraphs)]\n\u001B[0;32m---> 85\u001B[0m \u001B[38;5;28;01mreturn\u001B[39;00m \u001B[38;5;28;43mself\u001B[39;49m\u001B[38;5;241;43m.\u001B[39;49m\u001B[43mcompile\u001B[49m\u001B[43m(\u001B[49m\u001B[43mtarget\u001B[49m\u001B[43m,\u001B[49m\u001B[43m \u001B[49m\u001B[43mdo\u001B[49m\u001B[43m,\u001B[49m\u001B[43m \u001B[49m\u001B[43mevidence\u001B[49m\u001B[43m,\u001B[49m\u001B[43mcounterfactual\u001B[49m\u001B[43m)\u001B[49m\u001B[38;5;241;43m.\u001B[39;49m\u001B[43mrun\u001B[49m\u001B[43m(\u001B[49m\u001B[43m)\u001B[49m\n",
      "File \u001B[0;32m~/GoogleDrive/UAL/causality/dev/bcause/bcause/inference/causal/causal.py:77\u001B[0m, in \u001B[0;36mCausalInference.run\u001B[0;34m(self)\u001B[0m\n\u001B[1;32m     76\u001B[0m \u001B[38;5;28;01mdef\u001B[39;00m \u001B[38;5;21mrun\u001B[39m(\u001B[38;5;28mself\u001B[39m) \u001B[38;5;241m-\u001B[39m\u001B[38;5;241m>\u001B[39m Factor:\n\u001B[0;32m---> 77\u001B[0m     \u001B[38;5;28;01mreturn\u001B[39;00m \u001B[38;5;28;43mself\u001B[39;49m\u001B[38;5;241;43m.\u001B[39;49m\u001B[43m_inf\u001B[49m\u001B[38;5;241;43m.\u001B[39;49m\u001B[43mrun\u001B[49m\u001B[43m(\u001B[49m\u001B[43m)\u001B[49m\n",
      "File \u001B[0;32m~/GoogleDrive/UAL/causality/dev/bcause/bcause/inference/probabilistic/elimination.py:51\u001B[0m, in \u001B[0;36mVariableElimination.run\u001B[0;34m(self)\u001B[0m\n\u001B[1;32m     49\u001B[0m vars_in_factors \u001B[38;5;241m=\u001B[39m \u001B[38;5;28mlist\u001B[39m(reduce(\u001B[38;5;28;01mlambda\u001B[39;00m d1,d2 : d1 \u001B[38;5;241m|\u001B[39m d2, [f\u001B[38;5;241m.\u001B[39mdomain\u001B[38;5;241m.\u001B[39mkeys() \u001B[38;5;28;01mfor\u001B[39;00m f \u001B[38;5;129;01min\u001B[39;00m factors]))\n\u001B[1;32m     50\u001B[0m to_remove \u001B[38;5;241m=\u001B[39m [v \u001B[38;5;28;01mfor\u001B[39;00m v \u001B[38;5;129;01min\u001B[39;00m vars_in_factors \u001B[38;5;28;01mif\u001B[39;00m v \u001B[38;5;129;01mnot\u001B[39;00m \u001B[38;5;129;01min\u001B[39;00m \u001B[38;5;28mself\u001B[39m\u001B[38;5;241m.\u001B[39m_target \u001B[38;5;129;01mand\u001B[39;00m v \u001B[38;5;129;01mnot\u001B[39;00m \u001B[38;5;129;01min\u001B[39;00m \u001B[38;5;28mself\u001B[39m\u001B[38;5;241m.\u001B[39m_evidence\u001B[38;5;241m.\u001B[39mkeys()]\n\u001B[0;32m---> 51\u001B[0m ordering \u001B[38;5;241m=\u001B[39m \u001B[38;5;28;43mself\u001B[39;49m\u001B[38;5;241;43m.\u001B[39;49m\u001B[43m_heuristic\u001B[49m\u001B[43m(\u001B[49m\u001B[38;5;28;43mself\u001B[39;49m\u001B[38;5;241;43m.\u001B[39;49m\u001B[43m_inference_model\u001B[49m\u001B[38;5;241;43m.\u001B[39;49m\u001B[43mgraph\u001B[49m\u001B[43m,\u001B[49m\u001B[43m \u001B[49m\u001B[43mto_remove\u001B[49m\u001B[38;5;241;43m=\u001B[39;49m\u001B[43mto_remove\u001B[49m\u001B[43m,\u001B[49m\n\u001B[1;32m     52\u001B[0m \u001B[43m                           \u001B[49m\u001B[43mvarsizes\u001B[49m\u001B[38;5;241;43m=\u001B[39;49m\u001B[38;5;28;43mself\u001B[39;49m\u001B[38;5;241;43m.\u001B[39;49m\u001B[43m_inference_model\u001B[49m\u001B[38;5;241;43m.\u001B[39;49m\u001B[43mvarsizes\u001B[49m\u001B[43m)\u001B[49m\n\u001B[1;32m     54\u001B[0m logging\u001B[38;5;241m.\u001B[39minfo(\u001B[38;5;124mf\u001B[39m\u001B[38;5;124m\"\u001B[39m\u001B[38;5;124mStarting Variable elimination loop. Ordering: \u001B[39m\u001B[38;5;132;01m{\u001B[39;00mordering\u001B[38;5;132;01m}\u001B[39;00m\u001B[38;5;124m\"\u001B[39m)\n\u001B[1;32m     55\u001B[0m logging\u001B[38;5;241m.\u001B[39mdebug(\u001B[38;5;124mf\u001B[39m\u001B[38;5;124m\"\u001B[39m\u001B[38;5;124mCurrent factor list: \u001B[39m\u001B[38;5;132;01m{\u001B[39;00m[f\u001B[38;5;241m.\u001B[39mname \u001B[38;5;28;01mfor\u001B[39;00m f \u001B[38;5;129;01min\u001B[39;00m factors]\u001B[38;5;132;01m}\u001B[39;00m\u001B[38;5;124m\"\u001B[39m)\n",
      "File \u001B[0;32m~/GoogleDrive/UAL/causality/dev/bcause/bcause/inference/ordering.py:69\u001B[0m, in \u001B[0;36mmin_weight_heuristic\u001B[0;34m(dag, to_remove, random_state, varsizes)\u001B[0m\n\u001B[1;32m     67\u001B[0m \u001B[38;5;28;01mif\u001B[39;00m varsizes \u001B[38;5;129;01mis\u001B[39;00m \u001B[38;5;28;01mNone\u001B[39;00m:\n\u001B[1;32m     68\u001B[0m     \u001B[38;5;28;01mraise\u001B[39;00m \u001B[38;5;167;01mValueError\u001B[39;00m(\u001B[38;5;124m\"\u001B[39m\u001B[38;5;124mSize of Variables must be provided\u001B[39m\u001B[38;5;124m\"\u001B[39m)\n\u001B[0;32m---> 69\u001B[0m \u001B[38;5;28;01mreturn\u001B[39;00m \u001B[43m_get_elim_ordering\u001B[49m\u001B[43m(\u001B[49m\u001B[43mdag\u001B[49m\u001B[43m,\u001B[49m\u001B[43m \u001B[49m\u001B[43mvarsizes\u001B[49m\u001B[43m,\u001B[49m\u001B[43m \u001B[49m\u001B[43mto_remove\u001B[49m\u001B[38;5;241;43m=\u001B[39;49m\u001B[43mto_remove\u001B[49m\u001B[43m,\u001B[49m\u001B[43m \u001B[49m\u001B[43mheuristic\u001B[49m\u001B[38;5;241;43m=\u001B[39;49m\u001B[43mHeuristic\u001B[49m\u001B[38;5;241;43m.\u001B[39;49m\u001B[43mMIN_WEIGHT\u001B[49m\u001B[43m,\u001B[49m\u001B[43m \u001B[49m\u001B[43mrandom_state\u001B[49m\u001B[38;5;241;43m=\u001B[39;49m\u001B[38;5;241;43m0\u001B[39;49m\u001B[43m)\u001B[49m\n",
      "File \u001B[0;32m~/GoogleDrive/UAL/causality/dev/bcause/bcause/inference/ordering.py:44\u001B[0m, in \u001B[0;36m_get_elim_ordering\u001B[0;34m(dag, varsizes, to_remove, heuristic, random_state)\u001B[0m\n\u001B[1;32m     40\u001B[0m ordering \u001B[38;5;241m=\u001B[39m []\n\u001B[1;32m     42\u001B[0m \u001B[38;5;28;01mwhile\u001B[39;00m \u001B[38;5;28mlen\u001B[39m(to_remove)\u001B[38;5;241m>\u001B[39m\u001B[38;5;241m0\u001B[39m:\n\u001B[1;32m     43\u001B[0m     \u001B[38;5;66;03m# compute costs\u001B[39;00m\n\u001B[0;32m---> 44\u001B[0m     costs \u001B[38;5;241m=\u001B[39m {v:cost_fn(v,moral) \u001B[38;5;28;01mfor\u001B[39;00m v \u001B[38;5;129;01min\u001B[39;00m to_remove}\n\u001B[1;32m     45\u001B[0m     min_cost \u001B[38;5;241m=\u001B[39m \u001B[38;5;28mmin\u001B[39m(costs\u001B[38;5;241m.\u001B[39mvalues())\n\u001B[1;32m     46\u001B[0m     select_var \u001B[38;5;241m=\u001B[39m choice([v \u001B[38;5;28;01mfor\u001B[39;00m v,c \u001B[38;5;129;01min\u001B[39;00m costs\u001B[38;5;241m.\u001B[39mitems() \u001B[38;5;28;01mif\u001B[39;00m c \u001B[38;5;241m==\u001B[39m min_cost])\n",
      "File \u001B[0;32m~/GoogleDrive/UAL/causality/dev/bcause/bcause/inference/ordering.py:44\u001B[0m, in \u001B[0;36m<dictcomp>\u001B[0;34m(.0)\u001B[0m\n\u001B[1;32m     40\u001B[0m ordering \u001B[38;5;241m=\u001B[39m []\n\u001B[1;32m     42\u001B[0m \u001B[38;5;28;01mwhile\u001B[39;00m \u001B[38;5;28mlen\u001B[39m(to_remove)\u001B[38;5;241m>\u001B[39m\u001B[38;5;241m0\u001B[39m:\n\u001B[1;32m     43\u001B[0m     \u001B[38;5;66;03m# compute costs\u001B[39;00m\n\u001B[0;32m---> 44\u001B[0m     costs \u001B[38;5;241m=\u001B[39m {v:\u001B[43mcost_fn\u001B[49m\u001B[43m(\u001B[49m\u001B[43mv\u001B[49m\u001B[43m,\u001B[49m\u001B[43mmoral\u001B[49m\u001B[43m)\u001B[49m \u001B[38;5;28;01mfor\u001B[39;00m v \u001B[38;5;129;01min\u001B[39;00m to_remove}\n\u001B[1;32m     45\u001B[0m     min_cost \u001B[38;5;241m=\u001B[39m \u001B[38;5;28mmin\u001B[39m(costs\u001B[38;5;241m.\u001B[39mvalues())\n\u001B[1;32m     46\u001B[0m     select_var \u001B[38;5;241m=\u001B[39m choice([v \u001B[38;5;28;01mfor\u001B[39;00m v,c \u001B[38;5;129;01min\u001B[39;00m costs\u001B[38;5;241m.\u001B[39mitems() \u001B[38;5;28;01mif\u001B[39;00m c \u001B[38;5;241m==\u001B[39m min_cost])\n",
      "File \u001B[0;32m~/GoogleDrive/UAL/causality/dev/bcause/bcause/inference/ordering.py:23\u001B[0m, in \u001B[0;36m<lambda>\u001B[0;34m(var, moral)\u001B[0m\n\u001B[1;32m     17\u001B[0m     \u001B[38;5;28;01mreturn\u001B[39;00m [(x,y) \u001B[38;5;28;01mfor\u001B[39;00m x,y \u001B[38;5;129;01min\u001B[39;00m combinations(\u001B[38;5;28mlist\u001B[39m(moral[var]), r\u001B[38;5;241m=\u001B[39m\u001B[38;5;241m2\u001B[39m) \u001B[38;5;28;01mif\u001B[39;00m y \u001B[38;5;129;01mnot\u001B[39;00m \u001B[38;5;129;01min\u001B[39;00m moral\u001B[38;5;241m.\u001B[39madj[x]]\n\u001B[1;32m     20\u001B[0m \u001B[38;5;66;03m# costs\u001B[39;00m\n\u001B[1;32m     21\u001B[0m cost_functions \u001B[38;5;241m=\u001B[39m {\n\u001B[1;32m     22\u001B[0m     Heuristic\u001B[38;5;241m.\u001B[39mMIN_SIZE\u001B[38;5;241m.\u001B[39mname : \u001B[38;5;28;01mlambda\u001B[39;00m var, moral : \u001B[38;5;28mlen\u001B[39m(moral\u001B[38;5;241m.\u001B[39madj[var]),\n\u001B[0;32m---> 23\u001B[0m     Heuristic\u001B[38;5;241m.\u001B[39mMIN_WEIGHT\u001B[38;5;241m.\u001B[39mname : \u001B[38;5;28;01mlambda\u001B[39;00m var, moral : np\u001B[38;5;241m.\u001B[39mprod([moral\u001B[38;5;241m.\u001B[39mnodes[v][\u001B[38;5;124m\"\u001B[39m\u001B[38;5;124msize\u001B[39m\u001B[38;5;124m\"\u001B[39m] \u001B[38;5;28;01mfor\u001B[39;00m v \u001B[38;5;129;01min\u001B[39;00m \u001B[38;5;28mlist\u001B[39m(\u001B[43mmoral\u001B[49m\u001B[43m[\u001B[49m\u001B[43mvar\u001B[49m\u001B[43m]\u001B[49m)\u001B[38;5;241m+\u001B[39m[var]]),\n\u001B[1;32m     24\u001B[0m     Heuristic\u001B[38;5;241m.\u001B[39mMIN_FILL\u001B[38;5;241m.\u001B[39mname : \u001B[38;5;28;01mlambda\u001B[39;00m var, moral : \u001B[38;5;28mlen\u001B[39m(fillin_arcs(var, moral))\n\u001B[1;32m     25\u001B[0m }\n\u001B[1;32m     28\u001B[0m \u001B[38;5;28;01mdef\u001B[39;00m \u001B[38;5;21m_get_elim_ordering\u001B[39m(dag, varsizes\u001B[38;5;241m=\u001B[39m\u001B[38;5;28;01mNone\u001B[39;00m, to_remove\u001B[38;5;241m=\u001B[39m\u001B[38;5;28;01mNone\u001B[39;00m, heuristic\u001B[38;5;241m=\u001B[39mHeuristic\u001B[38;5;241m.\u001B[39mMIN_SIZE, random_state \u001B[38;5;241m=\u001B[39m \u001B[38;5;241m0\u001B[39m):\n\u001B[1;32m     30\u001B[0m     cost_fn \u001B[38;5;241m=\u001B[39m cost_functions[heuristic\u001B[38;5;241m.\u001B[39mname]\n",
      "File \u001B[0;32m~/venv/bcause/lib/python3.9/site-packages/networkx/classes/graph.py:476\u001B[0m, in \u001B[0;36mGraph.__getitem__\u001B[0;34m(self, n)\u001B[0m\n\u001B[1;32m    452\u001B[0m \u001B[38;5;28;01mdef\u001B[39;00m \u001B[38;5;21m__getitem__\u001B[39m(\u001B[38;5;28mself\u001B[39m, n):\n\u001B[1;32m    453\u001B[0m     \u001B[38;5;124;03m\"\"\"Returns a dict of neighbors of node n.  Use: 'G[n]'.\u001B[39;00m\n\u001B[1;32m    454\u001B[0m \n\u001B[1;32m    455\u001B[0m \u001B[38;5;124;03m    Parameters\u001B[39;00m\n\u001B[0;32m   (...)\u001B[0m\n\u001B[1;32m    474\u001B[0m \u001B[38;5;124;03m    AtlasView({1: {}})\u001B[39;00m\n\u001B[1;32m    475\u001B[0m \u001B[38;5;124;03m    \"\"\"\u001B[39;00m\n\u001B[0;32m--> 476\u001B[0m     \u001B[38;5;28;01mreturn\u001B[39;00m \u001B[38;5;28;43mself\u001B[39;49m\u001B[38;5;241;43m.\u001B[39;49m\u001B[43madj\u001B[49m\u001B[43m[\u001B[49m\u001B[43mn\u001B[49m\u001B[43m]\u001B[49m\n",
      "File \u001B[0;32m~/venv/bcause/lib/python3.9/site-packages/networkx/classes/coreviews.py:82\u001B[0m, in \u001B[0;36mAdjacencyView.__getitem__\u001B[0;34m(self, name)\u001B[0m\n\u001B[1;32m     81\u001B[0m \u001B[38;5;28;01mdef\u001B[39;00m \u001B[38;5;21m__getitem__\u001B[39m(\u001B[38;5;28mself\u001B[39m, name):\n\u001B[0;32m---> 82\u001B[0m     \u001B[38;5;28;01mreturn\u001B[39;00m AtlasView(\u001B[38;5;28;43mself\u001B[39;49m\u001B[38;5;241;43m.\u001B[39;49m\u001B[43m_atlas\u001B[49m\u001B[43m[\u001B[49m\u001B[43mname\u001B[49m\u001B[43m]\u001B[49m)\n",
      "\u001B[0;31mKeyError\u001B[0m: 'V'"
     ]
    }
   ],
   "source": [
    "# Run a counterfactual query\n",
    "cve.counterfactual_query(\"Y\",do=dict(X=\"x1\"), evidence=dict(X=\"x1\"))"
   ],
   "metadata": {
    "collapsed": false,
    "ExecuteTime": {
     "end_time": "2024-01-17T11:18:21.356631Z",
     "start_time": "2024-01-17T11:18:21.294314Z"
    }
   }
  },
  {
   "cell_type": "code",
   "execution_count": null,
   "outputs": [],
   "source": [],
   "metadata": {
    "collapsed": false
   }
  }
 ],
 "metadata": {
  "kernelspec": {
   "display_name": "Python 3",
   "language": "python",
   "name": "python3"
  },
  "language_info": {
   "codemirror_mode": {
    "name": "ipython",
    "version": 2
   },
   "file_extension": ".py",
   "mimetype": "text/x-python",
   "name": "python",
   "nbconvert_exporter": "python",
   "pygments_lexer": "ipython2",
   "version": "2.7.6"
  }
 },
 "nbformat": 4,
 "nbformat_minor": 0
}
